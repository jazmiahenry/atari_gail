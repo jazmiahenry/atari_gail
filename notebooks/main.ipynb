{
 "cells": [
  {
   "cell_type": "code",
   "execution_count": null,
   "id": "b5c7ccdc",
   "metadata": {},
   "outputs": [],
   "source": [
    "import numpy as np\n",
    "import tensorflow as tf\n",
    "from tensorflow import keras\n",
    "import matplotlib.pyplot as plt\n",
    "\n",
    "from gail import *\n",
    "from functions import *\n",
    "from data import *"
   ]
  },
  {
   "cell_type": "code",
   "execution_count": null,
   "id": "853ddb01",
   "metadata": {},
   "outputs": [],
   "source": [
    "class main():\n",
    "    def __init__(actions, state, obs, rwd):\n",
    "        actions = np.load(actions.npy)\n",
    "        state = np.load(episode_starts.npy)\n",
    "        obs = np.load(obs.npy)\n",
    "        rwd = np.load(rewards.npy)\n",
    "    perform_plot()\n",
    "\n",
    "\n",
    "\n",
    "\n",
    "def perform_plot():\n",
    "    model = GAIL(tf.keras.Model)\n",
    "    plot_file = '/../../plot_image/gail_plot_1.png'\n",
    "    plot = tf.keras.utils.plot_model(model, to_file=dot_img_file, show_shapes=True)"
   ]
  },
  {
   "cell_type": "code",
   "execution_count": null,
   "id": "0c2d6ecb",
   "metadata": {},
   "outputs": [],
   "source": []
  }
 ],
 "metadata": {
  "kernelspec": {
   "display_name": "Python 3",
   "language": "python",
   "name": "python3"
  },
  "language_info": {
   "codemirror_mode": {
    "name": "ipython",
    "version": 3
   },
   "file_extension": ".py",
   "mimetype": "text/x-python",
   "name": "python",
   "nbconvert_exporter": "python",
   "pygments_lexer": "ipython3",
   "version": "3.8.8"
  }
 },
 "nbformat": 4,
 "nbformat_minor": 5
}
